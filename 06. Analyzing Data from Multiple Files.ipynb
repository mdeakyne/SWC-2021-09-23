{
 "cells": [
  {
   "cell_type": "markdown",
   "id": "76094c13-525e-465f-93ed-2904a2524a3b",
   "metadata": {},
   "source": [
    "# Analyzing Data from Multiple Files\n",
    "teaching: 20\n",
    "exercises: 0\n",
    "questions:\n",
    "- \"How can I do the same operations on many different files?\"\n",
    "objectives:\n",
    "- \"Use a library function to get a list of filenames that match a wildcard pattern.\"\n",
    "- \"Write a `for` loop to process multiple files.\"\n",
    "keypoints:\n",
    "- \"Use `glob.glob(pattern)` to create a list of files whose names match a pattern.\"\n",
    "- \"Use `*` in a pattern to match zero or more characters, and `?` to match any single character.\"\n",
    "---"
   ]
  },
  {
   "cell_type": "markdown",
   "id": "474960fb-ad3c-4fbb-86f7-8264db87adc6",
   "metadata": {},
   "source": [
    "As a final piece to processing our inflammation data, we need a way to get a list of all the files\n",
    "in our `data` directory whose names start with `inflammation-` and end with `.csv`.\n",
    "The following library will help us to achieve this:\n",
    "```Python\n",
    "import glob\n",
    "```\n",
    "\n",
    "The `glob` library contains a function, also called `glob`,\n",
    "that finds files and directories whose names match a pattern.\n",
    "We provide those patterns as strings:\n",
    "the character `*` matches zero or more characters,\n",
    "while `?` matches any one character.\n",
    "We can use this to get the names of all the CSV files in the current directory:\n",
    "\n",
    "```Python\n",
    "print(glob.glob('inflammation*.csv'))\n",
    "```\n",
    "\n",
    "As these examples show,\n",
    "`glob.glob`'s result is a list of file and directory paths in arbitrary order.\n",
    "This means we can loop over it\n",
    "to do something with each filename in turn.\n",
    "In our case,\n",
    "the \"something\" we want to do is generate a set of plots for each file in our inflammation dataset.\n",
    "If we want to start by analyzing just the first three files in alphabetical order, we can use the\n",
    "`sorted` built-in function to generate a new sorted list from the `glob.glob` output:\n",
    "\n",
    "```Python\n",
    "import glob\n",
    "import numpy\n",
    "import matplotlib.pyplot\n",
    "\n",
    "filenames = sorted(glob.glob('inflammation*.csv'))\n",
    "filenames = filenames[0:3]\n",
    "for filename in filenames:\n",
    "    print(filename)\n",
    "\n",
    "    data = numpy.loadtxt(fname=filename, delimiter=',')\n",
    "\n",
    "    fig = matplotlib.pyplot.figure(figsize=(10.0, 3.0))\n",
    "\n",
    "    axes1 = fig.add_subplot(1, 3, 1)\n",
    "    axes2 = fig.add_subplot(1, 3, 2)\n",
    "    axes3 = fig.add_subplot(1, 3, 3)\n",
    "\n",
    "    axes1.set_ylabel('average')\n",
    "    axes1.plot(numpy.mean(data, axis=0))\n",
    "\n",
    "    axes2.set_ylabel('max')\n",
    "    axes2.plot(numpy.max(data, axis=0))\n",
    "\n",
    "    axes3.set_ylabel('min')\n",
    "    axes3.plot(numpy.min(data, axis=0))\n",
    "\n",
    "    fig.tight_layout()\n",
    "    matplotlib.pyplot.show()\n",
    "```\n",
    "\n",
    "Sure enough,\n",
    "the maxima of the first two data sets show exactly the same ramp as the first,\n",
    "and their minima show the same staircase structure;\n",
    "a different situation has been revealed in the third dataset,\n",
    "where the maxima are a bit less regular, but the minima are consistently zero."
   ]
  },
  {
   "cell_type": "code",
   "execution_count": null,
   "id": "12b36919-7892-4c46-8363-8dcd224d35fd",
   "metadata": {},
   "outputs": [],
   "source": []
  },
  {
   "cell_type": "markdown",
   "id": "95463a0e-1a5b-4408-bfdd-3d806f06e39c",
   "metadata": {},
   "source": [
    "# Exercises"
   ]
  },
  {
   "cell_type": "code",
   "execution_count": null,
   "id": "5b31bbbb-6ce6-40d9-98ab-56f414a9c3ea",
   "metadata": {},
   "outputs": [],
   "source": []
  }
 ],
 "metadata": {
  "kernelspec": {
   "display_name": "Python 3",
   "language": "python",
   "name": "python3"
  },
  "language_info": {
   "codemirror_mode": {
    "name": "ipython",
    "version": 3
   },
   "file_extension": ".py",
   "mimetype": "text/x-python",
   "name": "python",
   "nbconvert_exporter": "python",
   "pygments_lexer": "ipython3",
   "version": "3.8.8"
  }
 },
 "nbformat": 4,
 "nbformat_minor": 5
}
